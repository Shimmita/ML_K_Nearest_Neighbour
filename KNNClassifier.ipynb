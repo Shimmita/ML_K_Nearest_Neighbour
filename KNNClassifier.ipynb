{
 "cells": [
  {
   "cell_type": "markdown",
   "id": "9404ae5e",
   "metadata": {},
   "source": [
    "## KNNClassifier is used to predict descrete values that is classification."
   ]
  },
  {
   "cell_type": "markdown",
   "id": "1b9647a0",
   "metadata": {},
   "source": [
    "###  A) Prediction of a person of having Diabetes using the KNNClassifier\n",
    "### import the necessary libraries for usage"
   ]
  },
  {
   "cell_type": "code",
   "execution_count": 1,
   "id": "ca3c20c5",
   "metadata": {},
   "outputs": [],
   "source": [
    "import pandas as pd\n",
    "import numpy as np\n",
    "import matplotlib.pyplot as plt\n",
    "%matplotlib inline\n",
    "from sklearn.model_selection import train_test_split\n",
    "from sklearn.preprocessing import StandardScaler\n",
    "from sklearn.neighbors import KNeighborsClassifier, KNeighborsRegressor\n",
    "from sklearn.metrics import f1_score, accuracy_score,confusion_matrix,mean_squared_error, classification_report\n",
    "from math import sqrt\n"
   ]
  },
  {
   "cell_type": "code",
   "execution_count": 2,
   "id": "ba3bd9a3",
   "metadata": {},
   "outputs": [
    {
     "data": {
      "text/html": [
       "<div>\n",
       "<style scoped>\n",
       "    .dataframe tbody tr th:only-of-type {\n",
       "        vertical-align: middle;\n",
       "    }\n",
       "\n",
       "    .dataframe tbody tr th {\n",
       "        vertical-align: top;\n",
       "    }\n",
       "\n",
       "    .dataframe thead th {\n",
       "        text-align: right;\n",
       "    }\n",
       "</style>\n",
       "<table border=\"1\" class=\"dataframe\">\n",
       "  <thead>\n",
       "    <tr style=\"text-align: right;\">\n",
       "      <th></th>\n",
       "      <th>Pregnancies</th>\n",
       "      <th>Glucose</th>\n",
       "      <th>BloodPressure</th>\n",
       "      <th>SkinThickness</th>\n",
       "      <th>Insulin</th>\n",
       "      <th>BMI</th>\n",
       "      <th>DiabetesPedigreeFunction</th>\n",
       "      <th>Age</th>\n",
       "      <th>Outcome</th>\n",
       "    </tr>\n",
       "  </thead>\n",
       "  <tbody>\n",
       "    <tr>\n",
       "      <th>0</th>\n",
       "      <td>6</td>\n",
       "      <td>148</td>\n",
       "      <td>72</td>\n",
       "      <td>35</td>\n",
       "      <td>0</td>\n",
       "      <td>33.6</td>\n",
       "      <td>0.627</td>\n",
       "      <td>50</td>\n",
       "      <td>1</td>\n",
       "    </tr>\n",
       "    <tr>\n",
       "      <th>1</th>\n",
       "      <td>1</td>\n",
       "      <td>85</td>\n",
       "      <td>66</td>\n",
       "      <td>29</td>\n",
       "      <td>0</td>\n",
       "      <td>26.6</td>\n",
       "      <td>0.351</td>\n",
       "      <td>31</td>\n",
       "      <td>0</td>\n",
       "    </tr>\n",
       "    <tr>\n",
       "      <th>2</th>\n",
       "      <td>8</td>\n",
       "      <td>183</td>\n",
       "      <td>64</td>\n",
       "      <td>0</td>\n",
       "      <td>0</td>\n",
       "      <td>23.3</td>\n",
       "      <td>0.672</td>\n",
       "      <td>32</td>\n",
       "      <td>1</td>\n",
       "    </tr>\n",
       "    <tr>\n",
       "      <th>3</th>\n",
       "      <td>1</td>\n",
       "      <td>89</td>\n",
       "      <td>66</td>\n",
       "      <td>23</td>\n",
       "      <td>94</td>\n",
       "      <td>28.1</td>\n",
       "      <td>0.167</td>\n",
       "      <td>21</td>\n",
       "      <td>0</td>\n",
       "    </tr>\n",
       "    <tr>\n",
       "      <th>4</th>\n",
       "      <td>0</td>\n",
       "      <td>137</td>\n",
       "      <td>40</td>\n",
       "      <td>35</td>\n",
       "      <td>168</td>\n",
       "      <td>43.1</td>\n",
       "      <td>2.288</td>\n",
       "      <td>33</td>\n",
       "      <td>1</td>\n",
       "    </tr>\n",
       "    <tr>\n",
       "      <th>...</th>\n",
       "      <td>...</td>\n",
       "      <td>...</td>\n",
       "      <td>...</td>\n",
       "      <td>...</td>\n",
       "      <td>...</td>\n",
       "      <td>...</td>\n",
       "      <td>...</td>\n",
       "      <td>...</td>\n",
       "      <td>...</td>\n",
       "    </tr>\n",
       "    <tr>\n",
       "      <th>763</th>\n",
       "      <td>10</td>\n",
       "      <td>101</td>\n",
       "      <td>76</td>\n",
       "      <td>48</td>\n",
       "      <td>180</td>\n",
       "      <td>32.9</td>\n",
       "      <td>0.171</td>\n",
       "      <td>63</td>\n",
       "      <td>0</td>\n",
       "    </tr>\n",
       "    <tr>\n",
       "      <th>764</th>\n",
       "      <td>2</td>\n",
       "      <td>122</td>\n",
       "      <td>70</td>\n",
       "      <td>27</td>\n",
       "      <td>0</td>\n",
       "      <td>36.8</td>\n",
       "      <td>0.340</td>\n",
       "      <td>27</td>\n",
       "      <td>0</td>\n",
       "    </tr>\n",
       "    <tr>\n",
       "      <th>765</th>\n",
       "      <td>5</td>\n",
       "      <td>121</td>\n",
       "      <td>72</td>\n",
       "      <td>23</td>\n",
       "      <td>112</td>\n",
       "      <td>26.2</td>\n",
       "      <td>0.245</td>\n",
       "      <td>30</td>\n",
       "      <td>0</td>\n",
       "    </tr>\n",
       "    <tr>\n",
       "      <th>766</th>\n",
       "      <td>1</td>\n",
       "      <td>126</td>\n",
       "      <td>60</td>\n",
       "      <td>0</td>\n",
       "      <td>0</td>\n",
       "      <td>30.1</td>\n",
       "      <td>0.349</td>\n",
       "      <td>47</td>\n",
       "      <td>1</td>\n",
       "    </tr>\n",
       "    <tr>\n",
       "      <th>767</th>\n",
       "      <td>1</td>\n",
       "      <td>93</td>\n",
       "      <td>70</td>\n",
       "      <td>31</td>\n",
       "      <td>0</td>\n",
       "      <td>30.4</td>\n",
       "      <td>0.315</td>\n",
       "      <td>23</td>\n",
       "      <td>0</td>\n",
       "    </tr>\n",
       "  </tbody>\n",
       "</table>\n",
       "<p>768 rows × 9 columns</p>\n",
       "</div>"
      ],
      "text/plain": [
       "     Pregnancies  Glucose  BloodPressure  SkinThickness  Insulin   BMI  \\\n",
       "0              6      148             72             35        0  33.6   \n",
       "1              1       85             66             29        0  26.6   \n",
       "2              8      183             64              0        0  23.3   \n",
       "3              1       89             66             23       94  28.1   \n",
       "4              0      137             40             35      168  43.1   \n",
       "..           ...      ...            ...            ...      ...   ...   \n",
       "763           10      101             76             48      180  32.9   \n",
       "764            2      122             70             27        0  36.8   \n",
       "765            5      121             72             23      112  26.2   \n",
       "766            1      126             60              0        0  30.1   \n",
       "767            1       93             70             31        0  30.4   \n",
       "\n",
       "     DiabetesPedigreeFunction  Age  Outcome  \n",
       "0                       0.627   50        1  \n",
       "1                       0.351   31        0  \n",
       "2                       0.672   32        1  \n",
       "3                       0.167   21        0  \n",
       "4                       2.288   33        1  \n",
       "..                        ...  ...      ...  \n",
       "763                     0.171   63        0  \n",
       "764                     0.340   27        0  \n",
       "765                     0.245   30        0  \n",
       "766                     0.349   47        1  \n",
       "767                     0.315   23        0  \n",
       "\n",
       "[768 rows x 9 columns]"
      ]
     },
     "execution_count": 2,
     "metadata": {},
     "output_type": "execute_result"
    }
   ],
   "source": [
    "#reading or loading the diabetis dataset\n",
    "df=pd.read_csv('diabetes.csv')\n",
    "df\n",
    "#clean the the data by checkin g presence of missing values and cleansing where necessary\n",
    "df.describe().T\n",
    "##check the the total number of missing values if present and count\n",
    "df.isna().sum()\n",
    "df.isnull().sum()\n",
    "df"
   ]
  },
  {
   "cell_type": "markdown",
   "id": "8083e549",
   "metadata": {},
   "source": [
    "### Extraction of target variable (outcome) from the features or the indepenedent variables\n",
    "### Splitting of the dataset and taking 20-30% for testing and the rest for training the model"
   ]
  },
  {
   "cell_type": "code",
   "execution_count": 3,
   "id": "2be94b43",
   "metadata": {},
   "outputs": [],
   "source": [
    "#defining the x and the y values from  the dataset\n",
    "x_values=df.drop('Outcome', axis=1)\n",
    "#target extraction\n",
    "y_target=df['Outcome']\n",
    "#splitting the dataset\n",
    "x_train,x_test,y_train,y_test=train_test_split(x_values,y_target,test_size=0.20)\n",
    "\n"
   ]
  },
  {
   "cell_type": "markdown",
   "id": "6a50361c",
   "metadata": {},
   "source": [
    "### Scaling the data or Data transformation"
   ]
  },
  {
   "cell_type": "code",
   "execution_count": 4,
   "id": "c1891017",
   "metadata": {},
   "outputs": [],
   "source": [
    "#init the scaler\n",
    "scaler=StandardScaler()\n",
    "#scaling the x_train and the x_test dataset\n",
    "x_train=scaler.fit_transform(x_train)\n",
    "\n",
    "x_test=scaler.fit_transform(x_test)"
   ]
  },
  {
   "cell_type": "markdown",
   "id": "39959781",
   "metadata": {},
   "source": [
    "### Training the Model"
   ]
  },
  {
   "cell_type": "code",
   "execution_count": 5,
   "id": "75b2cb3f",
   "metadata": {},
   "outputs": [
    {
     "data": {
      "text/html": [
       "<style>#sk-container-id-1 {color: black;}#sk-container-id-1 pre{padding: 0;}#sk-container-id-1 div.sk-toggleable {background-color: white;}#sk-container-id-1 label.sk-toggleable__label {cursor: pointer;display: block;width: 100%;margin-bottom: 0;padding: 0.3em;box-sizing: border-box;text-align: center;}#sk-container-id-1 label.sk-toggleable__label-arrow:before {content: \"▸\";float: left;margin-right: 0.25em;color: #696969;}#sk-container-id-1 label.sk-toggleable__label-arrow:hover:before {color: black;}#sk-container-id-1 div.sk-estimator:hover label.sk-toggleable__label-arrow:before {color: black;}#sk-container-id-1 div.sk-toggleable__content {max-height: 0;max-width: 0;overflow: hidden;text-align: left;background-color: #f0f8ff;}#sk-container-id-1 div.sk-toggleable__content pre {margin: 0.2em;color: black;border-radius: 0.25em;background-color: #f0f8ff;}#sk-container-id-1 input.sk-toggleable__control:checked~div.sk-toggleable__content {max-height: 200px;max-width: 100%;overflow: auto;}#sk-container-id-1 input.sk-toggleable__control:checked~label.sk-toggleable__label-arrow:before {content: \"▾\";}#sk-container-id-1 div.sk-estimator input.sk-toggleable__control:checked~label.sk-toggleable__label {background-color: #d4ebff;}#sk-container-id-1 div.sk-label input.sk-toggleable__control:checked~label.sk-toggleable__label {background-color: #d4ebff;}#sk-container-id-1 input.sk-hidden--visually {border: 0;clip: rect(1px 1px 1px 1px);clip: rect(1px, 1px, 1px, 1px);height: 1px;margin: -1px;overflow: hidden;padding: 0;position: absolute;width: 1px;}#sk-container-id-1 div.sk-estimator {font-family: monospace;background-color: #f0f8ff;border: 1px dotted black;border-radius: 0.25em;box-sizing: border-box;margin-bottom: 0.5em;}#sk-container-id-1 div.sk-estimator:hover {background-color: #d4ebff;}#sk-container-id-1 div.sk-parallel-item::after {content: \"\";width: 100%;border-bottom: 1px solid gray;flex-grow: 1;}#sk-container-id-1 div.sk-label:hover label.sk-toggleable__label {background-color: #d4ebff;}#sk-container-id-1 div.sk-serial::before {content: \"\";position: absolute;border-left: 1px solid gray;box-sizing: border-box;top: 0;bottom: 0;left: 50%;z-index: 0;}#sk-container-id-1 div.sk-serial {display: flex;flex-direction: column;align-items: center;background-color: white;padding-right: 0.2em;padding-left: 0.2em;position: relative;}#sk-container-id-1 div.sk-item {position: relative;z-index: 1;}#sk-container-id-1 div.sk-parallel {display: flex;align-items: stretch;justify-content: center;background-color: white;position: relative;}#sk-container-id-1 div.sk-item::before, #sk-container-id-1 div.sk-parallel-item::before {content: \"\";position: absolute;border-left: 1px solid gray;box-sizing: border-box;top: 0;bottom: 0;left: 50%;z-index: -1;}#sk-container-id-1 div.sk-parallel-item {display: flex;flex-direction: column;z-index: 1;position: relative;background-color: white;}#sk-container-id-1 div.sk-parallel-item:first-child::after {align-self: flex-end;width: 50%;}#sk-container-id-1 div.sk-parallel-item:last-child::after {align-self: flex-start;width: 50%;}#sk-container-id-1 div.sk-parallel-item:only-child::after {width: 0;}#sk-container-id-1 div.sk-dashed-wrapped {border: 1px dashed gray;margin: 0 0.4em 0.5em 0.4em;box-sizing: border-box;padding-bottom: 0.4em;background-color: white;}#sk-container-id-1 div.sk-label label {font-family: monospace;font-weight: bold;display: inline-block;line-height: 1.2em;}#sk-container-id-1 div.sk-label-container {text-align: center;}#sk-container-id-1 div.sk-container {/* jupyter's `normalize.less` sets `[hidden] { display: none; }` but bootstrap.min.css set `[hidden] { display: none !important; }` so we also need the `!important` here to be able to override the default hidden behavior on the sphinx rendered scikit-learn.org. See: https://github.com/scikit-learn/scikit-learn/issues/21755 */display: inline-block !important;position: relative;}#sk-container-id-1 div.sk-text-repr-fallback {display: none;}</style><div id=\"sk-container-id-1\" class=\"sk-top-container\"><div class=\"sk-text-repr-fallback\"><pre>KNeighborsClassifier(n_neighbors=27)</pre><b>In a Jupyter environment, please rerun this cell to show the HTML representation or trust the notebook. <br />On GitHub, the HTML representation is unable to render, please try loading this page with nbviewer.org.</b></div><div class=\"sk-container\" hidden><div class=\"sk-item\"><div class=\"sk-estimator sk-toggleable\"><input class=\"sk-toggleable__control sk-hidden--visually\" id=\"sk-estimator-id-1\" type=\"checkbox\" checked><label for=\"sk-estimator-id-1\" class=\"sk-toggleable__label sk-toggleable__label-arrow\">KNeighborsClassifier</label><div class=\"sk-toggleable__content\"><pre>KNeighborsClassifier(n_neighbors=27)</pre></div></div></div></div></div>"
      ],
      "text/plain": [
       "KNeighborsClassifier(n_neighbors=27)"
      ]
     },
     "execution_count": 5,
     "metadata": {},
     "output_type": "execute_result"
    }
   ],
   "source": [
    "#calculate the sqrt of the total dataset and if result is even add or subtract one to get odd value\n",
    "k_value=int(sqrt(len(df)))\n",
    "#init the model\n",
    "model=KNeighborsClassifier(n_neighbors=k_value,p=2)\n",
    "#training the model by passing the x_train values\n",
    "model.fit(x_train,y_train)"
   ]
  },
  {
   "cell_type": "markdown",
   "id": "de6090c8",
   "metadata": {},
   "source": [
    "### Predicting using the trained model"
   ]
  },
  {
   "cell_type": "code",
   "execution_count": 6,
   "id": "0cd310a6",
   "metadata": {},
   "outputs": [
    {
     "data": {
      "text/plain": [
       "array([0, 0, 1, 0, 0, 0, 0, 1, 0, 0, 0, 1, 0, 0, 0, 0, 0, 0, 0, 0, 0, 1,\n",
       "       1, 0, 0, 0, 0, 0, 0, 0, 1, 0, 0, 0, 0, 0, 0, 0, 0, 0, 0, 0, 0, 1,\n",
       "       0, 0, 0, 0, 0, 0, 0, 0, 0, 0, 0, 0, 1, 0, 0, 0, 0, 0, 1, 0, 1, 1,\n",
       "       0, 0, 1, 0, 0, 0, 1, 0, 0, 0, 1, 0, 0, 1, 0, 0, 0, 1, 1, 0, 0, 0,\n",
       "       0, 1, 0, 0, 1, 0, 0, 0, 1, 1, 0, 0, 0, 1, 0, 1, 0, 0, 0, 0, 0, 1,\n",
       "       0, 0, 0, 0, 0, 1, 1, 0, 0, 0, 0, 1, 0, 0, 0, 0, 1, 0, 0, 0, 1, 0,\n",
       "       1, 1, 0, 0, 1, 0, 0, 0, 1, 1, 0, 0, 0, 0, 0, 1, 0, 0, 0, 0, 1, 0])"
      ]
     },
     "execution_count": 6,
     "metadata": {},
     "output_type": "execute_result"
    }
   ],
   "source": [
    "#predicting the model using the x_test\n",
    "prediction=model.predict(x_test)\n",
    "# prediction=[1 if val>0.5 else 0 for val in prediction]\n",
    "prediction"
   ]
  },
  {
   "cell_type": "code",
   "execution_count": 7,
   "id": "8e707c73",
   "metadata": {},
   "outputs": [
    {
     "data": {
      "text/plain": [
       "541    1\n",
       "639    0\n",
       "506    1\n",
       "167    0\n",
       "494    0\n",
       "696    1\n",
       "340    0\n",
       "235    1\n",
       "318    0\n",
       "474    0\n",
       "Name: Outcome, dtype: int64"
      ]
     },
     "execution_count": 7,
     "metadata": {},
     "output_type": "execute_result"
    }
   ],
   "source": [
    "y_test.head(n=10)"
   ]
  },
  {
   "cell_type": "code",
   "execution_count": 8,
   "id": "cc9721fb",
   "metadata": {},
   "outputs": [
    {
     "data": {
      "text/plain": [
       "array([[-0.40714618,  0.22882794,  0.18265772, ...,  0.02466862,\n",
       "         0.2708812 , -0.57070693],\n",
       "       [-0.93626443, -0.60807289,  0.27866211, ..., -1.46489627,\n",
       "        -0.9560513 , -0.48570802],\n",
       "       [-1.20082356,  1.78307233,  1.04669729, ...,  0.49809622,\n",
       "        -0.44994164,  0.10928431],\n",
       "       ...,\n",
       "       [ 2.23844505,  0.25871725, -3.27350056, ...,  0.89069472,\n",
       "         0.33222783,  0.87427444],\n",
       "       [-0.14258706,  1.00595013,  0.18265772, ..., -0.10234854,\n",
       "        -0.37632569,  0.27928211],\n",
       "       [-1.20082356, -0.81729809, -0.39336866, ..., -0.40257092,\n",
       "         0.21873657, -0.99570145]])"
      ]
     },
     "execution_count": 8,
     "metadata": {},
     "output_type": "execute_result"
    }
   ],
   "source": [
    "x_test"
   ]
  },
  {
   "cell_type": "markdown",
   "id": "542d6162",
   "metadata": {},
   "source": [
    "### Model Evaluation"
   ]
  },
  {
   "cell_type": "code",
   "execution_count": 9,
   "id": "0703094d",
   "metadata": {},
   "outputs": [
    {
     "data": {
      "text/plain": [
       "array([[92, 11],\n",
       "       [26, 25]])"
      ]
     },
     "execution_count": 9,
     "metadata": {},
     "output_type": "execute_result"
    }
   ],
   "source": [
    "#confusion matrix\n",
    "cf_matrix=confusion_matrix(y_test,prediction)\n",
    "cf_matrix"
   ]
  },
  {
   "cell_type": "code",
   "execution_count": 10,
   "id": "7f3f084b",
   "metadata": {},
   "outputs": [
    {
     "data": {
      "text/plain": [
       "0.5747126436781609"
      ]
     },
     "execution_count": 10,
     "metadata": {},
     "output_type": "execute_result"
    }
   ],
   "source": [
    "#F1 score\n",
    "f_score=f1_score(y_test,prediction)\n",
    "f_score"
   ]
  },
  {
   "cell_type": "code",
   "execution_count": 11,
   "id": "08895e6d",
   "metadata": {},
   "outputs": [
    {
     "data": {
      "text/plain": [
       "0.7597402597402597"
      ]
     },
     "execution_count": 11,
     "metadata": {},
     "output_type": "execute_result"
    }
   ],
   "source": [
    "#accuracy\n",
    "accuracy=accuracy_score(y_test,prediction)\n",
    "accuracy"
   ]
  },
  {
   "cell_type": "code",
   "execution_count": 12,
   "id": "d2b31f6d",
   "metadata": {},
   "outputs": [
    {
     "data": {
      "text/plain": [
       "0.24025974025974026"
      ]
     },
     "execution_count": 12,
     "metadata": {},
     "output_type": "execute_result"
    }
   ],
   "source": [
    "#mean squared error\n",
    "mean_error=mean_squared_error(y_test,prediction)\n",
    "mean_error"
   ]
  },
  {
   "cell_type": "markdown",
   "id": "0e898c5d",
   "metadata": {},
   "source": [
    "## B) Using the KNNRegressor\n"
   ]
  },
  {
   "cell_type": "code",
   "execution_count": 13,
   "id": "0e0bbf24",
   "metadata": {},
   "outputs": [],
   "source": [
    "### useful for contionous results such as the the stock price fluctutions \n",
    "### Is alternative for linear regression and KNNClassifier\n",
    "\n",
    "#use pandas to load the csv file containing the dataframe\n",
    "df=pd.read_csv('diabetes.csv')\n",
    "#our target is years prediction thus it a dependent variable while the rest features indepenednt variables\n",
    "x_features=df.drop('Outcome', axis=1)\n",
    "#Year dataset\n",
    "y_target=df.Outcome\n"
   ]
  },
  {
   "cell_type": "markdown",
   "id": "71b3560f",
   "metadata": {},
   "source": [
    "### Splitting the data"
   ]
  },
  {
   "cell_type": "code",
   "execution_count": 14,
   "id": "ada30e51",
   "metadata": {},
   "outputs": [],
   "source": [
    "\n",
    "### split the dataset and use 20-30% of the overall dataset for testing, the rest for training the model\n",
    "#splitting process\n",
    "x_train,x_test,y_train,y_test=train_test_split(x_features,y_target,test_size=0.20)"
   ]
  },
  {
   "cell_type": "markdown",
   "id": "b1fa3a3e",
   "metadata": {},
   "source": [
    "### Scaling the Data"
   ]
  },
  {
   "cell_type": "code",
   "execution_count": 15,
   "id": "e71cbb82",
   "metadata": {},
   "outputs": [],
   "source": [
    "#init of the scaler and pass the x_train and the x_test\n",
    "scaler=StandardScaler()\n",
    "#scaling the x_train\n",
    "x_train=scaler.fit_transform(x_train)\n",
    "#scaling the x_test\n",
    "x_test=scaler.fit_transform(x_test)"
   ]
  },
  {
   "cell_type": "markdown",
   "id": "c59834c5",
   "metadata": {},
   "source": [
    "### Training the KNNRegressor Model"
   ]
  },
  {
   "cell_type": "code",
   "execution_count": 16,
   "id": "a4c345e9",
   "metadata": {},
   "outputs": [
    {
     "data": {
      "text/html": [
       "<style>#sk-container-id-2 {color: black;}#sk-container-id-2 pre{padding: 0;}#sk-container-id-2 div.sk-toggleable {background-color: white;}#sk-container-id-2 label.sk-toggleable__label {cursor: pointer;display: block;width: 100%;margin-bottom: 0;padding: 0.3em;box-sizing: border-box;text-align: center;}#sk-container-id-2 label.sk-toggleable__label-arrow:before {content: \"▸\";float: left;margin-right: 0.25em;color: #696969;}#sk-container-id-2 label.sk-toggleable__label-arrow:hover:before {color: black;}#sk-container-id-2 div.sk-estimator:hover label.sk-toggleable__label-arrow:before {color: black;}#sk-container-id-2 div.sk-toggleable__content {max-height: 0;max-width: 0;overflow: hidden;text-align: left;background-color: #f0f8ff;}#sk-container-id-2 div.sk-toggleable__content pre {margin: 0.2em;color: black;border-radius: 0.25em;background-color: #f0f8ff;}#sk-container-id-2 input.sk-toggleable__control:checked~div.sk-toggleable__content {max-height: 200px;max-width: 100%;overflow: auto;}#sk-container-id-2 input.sk-toggleable__control:checked~label.sk-toggleable__label-arrow:before {content: \"▾\";}#sk-container-id-2 div.sk-estimator input.sk-toggleable__control:checked~label.sk-toggleable__label {background-color: #d4ebff;}#sk-container-id-2 div.sk-label input.sk-toggleable__control:checked~label.sk-toggleable__label {background-color: #d4ebff;}#sk-container-id-2 input.sk-hidden--visually {border: 0;clip: rect(1px 1px 1px 1px);clip: rect(1px, 1px, 1px, 1px);height: 1px;margin: -1px;overflow: hidden;padding: 0;position: absolute;width: 1px;}#sk-container-id-2 div.sk-estimator {font-family: monospace;background-color: #f0f8ff;border: 1px dotted black;border-radius: 0.25em;box-sizing: border-box;margin-bottom: 0.5em;}#sk-container-id-2 div.sk-estimator:hover {background-color: #d4ebff;}#sk-container-id-2 div.sk-parallel-item::after {content: \"\";width: 100%;border-bottom: 1px solid gray;flex-grow: 1;}#sk-container-id-2 div.sk-label:hover label.sk-toggleable__label {background-color: #d4ebff;}#sk-container-id-2 div.sk-serial::before {content: \"\";position: absolute;border-left: 1px solid gray;box-sizing: border-box;top: 0;bottom: 0;left: 50%;z-index: 0;}#sk-container-id-2 div.sk-serial {display: flex;flex-direction: column;align-items: center;background-color: white;padding-right: 0.2em;padding-left: 0.2em;position: relative;}#sk-container-id-2 div.sk-item {position: relative;z-index: 1;}#sk-container-id-2 div.sk-parallel {display: flex;align-items: stretch;justify-content: center;background-color: white;position: relative;}#sk-container-id-2 div.sk-item::before, #sk-container-id-2 div.sk-parallel-item::before {content: \"\";position: absolute;border-left: 1px solid gray;box-sizing: border-box;top: 0;bottom: 0;left: 50%;z-index: -1;}#sk-container-id-2 div.sk-parallel-item {display: flex;flex-direction: column;z-index: 1;position: relative;background-color: white;}#sk-container-id-2 div.sk-parallel-item:first-child::after {align-self: flex-end;width: 50%;}#sk-container-id-2 div.sk-parallel-item:last-child::after {align-self: flex-start;width: 50%;}#sk-container-id-2 div.sk-parallel-item:only-child::after {width: 0;}#sk-container-id-2 div.sk-dashed-wrapped {border: 1px dashed gray;margin: 0 0.4em 0.5em 0.4em;box-sizing: border-box;padding-bottom: 0.4em;background-color: white;}#sk-container-id-2 div.sk-label label {font-family: monospace;font-weight: bold;display: inline-block;line-height: 1.2em;}#sk-container-id-2 div.sk-label-container {text-align: center;}#sk-container-id-2 div.sk-container {/* jupyter's `normalize.less` sets `[hidden] { display: none; }` but bootstrap.min.css set `[hidden] { display: none !important; }` so we also need the `!important` here to be able to override the default hidden behavior on the sphinx rendered scikit-learn.org. See: https://github.com/scikit-learn/scikit-learn/issues/21755 */display: inline-block !important;position: relative;}#sk-container-id-2 div.sk-text-repr-fallback {display: none;}</style><div id=\"sk-container-id-2\" class=\"sk-top-container\"><div class=\"sk-text-repr-fallback\"><pre>KNeighborsRegressor(n_neighbors=27)</pre><b>In a Jupyter environment, please rerun this cell to show the HTML representation or trust the notebook. <br />On GitHub, the HTML representation is unable to render, please try loading this page with nbviewer.org.</b></div><div class=\"sk-container\" hidden><div class=\"sk-item\"><div class=\"sk-estimator sk-toggleable\"><input class=\"sk-toggleable__control sk-hidden--visually\" id=\"sk-estimator-id-2\" type=\"checkbox\" checked><label for=\"sk-estimator-id-2\" class=\"sk-toggleable__label sk-toggleable__label-arrow\">KNeighborsRegressor</label><div class=\"sk-toggleable__content\"><pre>KNeighborsRegressor(n_neighbors=27)</pre></div></div></div></div></div>"
      ],
      "text/plain": [
       "KNeighborsRegressor(n_neighbors=27)"
      ]
     },
     "execution_count": 16,
     "metadata": {},
     "output_type": "execute_result"
    }
   ],
   "source": [
    "#init the KNNRegressor model and pass the k-value which mostly is recommended to use sqrt of the dataset size\n",
    "#if the value is even we add or subract to have an odd value else we use the value.\n",
    "k_val=sqrt(len(df))\n",
    "#val is 4 using 3 or 5 will be the best approach. depending on the mean_square_error it will ditermine the best\n",
    "k_val=int(k_val)\n",
    "#init the KNNRegressor model\n",
    "model=KNeighborsRegressor(n_neighbors=k_val,p=2)\n",
    "#actual training\n",
    "model.fit(x_train,y_train)\n",
    "\n"
   ]
  },
  {
   "cell_type": "markdown",
   "id": "9dc3679c",
   "metadata": {},
   "source": [
    "### Prediction of The model"
   ]
  },
  {
   "cell_type": "code",
   "execution_count": 17,
   "id": "6aee44ca",
   "metadata": {},
   "outputs": [
    {
     "data": {
      "text/plain": [
       "array([0.07407407, 0.25925926, 0.03703704, 0.37037037, 0.48148148,\n",
       "       0.40740741, 0.2962963 , 0.74074074, 0.77777778, 0.74074074,\n",
       "       0.        , 0.03703704, 0.11111111, 0.03703704, 0.37037037,\n",
       "       0.22222222, 0.        , 0.48148148, 0.37037037, 0.62962963,\n",
       "       0.88888889, 0.33333333, 0.2962963 , 0.44444444, 0.59259259,\n",
       "       0.37037037, 0.40740741, 0.11111111, 0.81481481, 0.03703704,\n",
       "       0.14814815, 0.7037037 , 0.14814815, 0.        , 0.22222222,\n",
       "       0.        , 0.37037037, 0.25925926, 0.        , 0.33333333,\n",
       "       0.33333333, 0.81481481, 0.66666667, 0.        , 0.37037037,\n",
       "       0.2962963 , 0.37037037, 0.51851852, 0.07407407, 0.03703704,\n",
       "       0.2962963 , 0.03703704, 0.48148148, 0.2962963 , 0.59259259,\n",
       "       0.        , 0.07407407, 0.59259259, 0.07407407, 0.37037037,\n",
       "       0.18518519, 0.        , 0.25925926, 0.51851852, 0.11111111,\n",
       "       0.48148148, 0.14814815, 0.11111111, 0.74074074, 0.03703704,\n",
       "       0.18518519, 0.25925926, 0.59259259, 0.48148148, 0.14814815,\n",
       "       0.14814815, 0.48148148, 0.25925926, 0.37037037, 0.55555556,\n",
       "       0.14814815, 0.33333333, 0.33333333, 0.14814815, 0.33333333,\n",
       "       0.51851852, 0.37037037, 0.77777778, 0.44444444, 0.62962963,\n",
       "       0.40740741, 0.18518519, 0.11111111, 0.48148148, 0.14814815,\n",
       "       0.37037037, 0.2962963 , 0.55555556, 0.        , 0.        ,\n",
       "       0.22222222, 0.22222222, 0.07407407, 0.25925926, 0.59259259,\n",
       "       0.33333333, 0.48148148, 0.7037037 , 0.        , 0.59259259,\n",
       "       0.66666667, 0.74074074, 0.2962963 , 0.07407407, 0.51851852,\n",
       "       0.66666667, 0.48148148, 0.74074074, 0.85185185, 0.51851852,\n",
       "       0.59259259, 0.03703704, 0.14814815, 0.11111111, 0.11111111,\n",
       "       0.88888889, 0.55555556, 0.        , 0.25925926, 0.14814815,\n",
       "       0.33333333, 0.07407407, 0.25925926, 0.03703704, 0.11111111,\n",
       "       0.33333333, 0.48148148, 0.48148148, 0.18518519, 0.33333333,\n",
       "       0.77777778, 0.03703704, 0.        , 0.        , 0.07407407,\n",
       "       0.2962963 , 0.        , 0.2962963 , 0.37037037, 0.18518519,\n",
       "       0.51851852, 0.11111111, 0.11111111, 0.66666667])"
      ]
     },
     "execution_count": 17,
     "metadata": {},
     "output_type": "execute_result"
    }
   ],
   "source": [
    "\n",
    "#lets predict the value of x_test_scaled that was 30% from the overall dataset\n",
    "prediction=model.predict(x_test)\n",
    "# prediction=[1 if val>0.5 else 0 for val in prediction]\n",
    "prediction"
   ]
  },
  {
   "cell_type": "code",
   "execution_count": 18,
   "id": "e8efc2f8",
   "metadata": {},
   "outputs": [
    {
     "data": {
      "text/plain": [
       "225    0\n",
       "403    0\n",
       "47     0\n",
       "634    0\n",
       "635    1\n",
       "347    0\n",
       "161    0\n",
       "663    1\n",
       "588    1\n",
       "53     1\n",
       "Name: Outcome, dtype: int64"
      ]
     },
     "execution_count": 18,
     "metadata": {},
     "output_type": "execute_result"
    }
   ],
   "source": [
    "y_test.head(n=10)"
   ]
  },
  {
   "cell_type": "code",
   "execution_count": 19,
   "id": "db7ed485",
   "metadata": {},
   "outputs": [
    {
     "data": {
      "text/plain": [
       "array([[-0.92085375, -0.9168309 ,  0.47074536, ...,  0.51343307,\n",
       "        -1.11061439, -0.94179488],\n",
       "       [ 1.49295863, -1.35368721,  0.47074536, ...,  0.0513133 ,\n",
       "        -0.5820006 ,  0.3560701 ],\n",
       "       [-0.6191272 , -1.38281097,  0.05170036, ..., -0.50323042,\n",
       "         0.3216632 , -0.94179488],\n",
       "       ...,\n",
       "       [-0.6191272 , -0.18873705,  0.31360348, ...,  0.68287698,\n",
       "        -0.97181636, -1.02291144],\n",
       "       [-0.01567411, -1.00420217,  1.09931286, ...,  1.26822869,\n",
       "        -0.93933171, -0.6984452 ],\n",
       "       [ 1.79468518,  0.42286178, -0.05306089, ..., -0.65727034,\n",
       "        -0.68536084,  0.19383698]])"
      ]
     },
     "execution_count": 19,
     "metadata": {},
     "output_type": "execute_result"
    }
   ],
   "source": [
    "x_test"
   ]
  },
  {
   "cell_type": "markdown",
   "id": "1e368c4b",
   "metadata": {},
   "source": [
    "\n",
    "### Model Evaluation"
   ]
  },
  {
   "cell_type": "code",
   "execution_count": 20,
   "id": "e04673ba",
   "metadata": {},
   "outputs": [
    {
     "data": {
      "text/plain": [
       "0.17323143249069176"
      ]
     },
     "execution_count": 20,
     "metadata": {},
     "output_type": "execute_result"
    }
   ],
   "source": [
    "#mean squared error\n",
    "mean_error=mean_squared_error(y_test,prediction)\n",
    "mean_error"
   ]
  },
  {
   "cell_type": "code",
   "execution_count": null,
   "id": "a9e8fcae",
   "metadata": {},
   "outputs": [],
   "source": []
  },
  {
   "cell_type": "code",
   "execution_count": null,
   "id": "19248728",
   "metadata": {},
   "outputs": [],
   "source": []
  },
  {
   "cell_type": "code",
   "execution_count": null,
   "id": "e24f5ab6",
   "metadata": {},
   "outputs": [],
   "source": []
  }
 ],
 "metadata": {
  "kernelspec": {
   "display_name": "Python 3 (ipykernel)",
   "language": "python",
   "name": "python3"
  },
  "language_info": {
   "codemirror_mode": {
    "name": "ipython",
    "version": 3
   },
   "file_extension": ".py",
   "mimetype": "text/x-python",
   "name": "python",
   "nbconvert_exporter": "python",
   "pygments_lexer": "ipython3",
   "version": "3.11.4"
  }
 },
 "nbformat": 4,
 "nbformat_minor": 5
}
